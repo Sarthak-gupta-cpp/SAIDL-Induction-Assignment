{
  "nbformat": 4,
  "nbformat_minor": 0,
  "metadata": {
    "colab": {
      "provenance": [],
      "gpuType": "T4"
    },
    "kernelspec": {
      "name": "python3",
      "display_name": "Python 3"
    },
    "language_info": {
      "name": "python"
    },
    "accelerator": "GPU"
  },
  "cells": [
    {
      "cell_type": "markdown",
      "source": [],
      "metadata": {
        "id": "p2CVLXBRsykv"
      }
    },
    {
      "cell_type": "markdown",
      "source": [
        "# Core ML Task"
      ],
      "metadata": {
        "id": "geurO_ektESp"
      }
    },
    {
      "cell_type": "markdown",
      "source": [
        "# 1. Data preparation\n",
        "We import CIFAR-10 dataset and add different noises to it for η = [0.2, 0.4, 0.6, 0.8] and train our model on these different noises."
      ],
      "metadata": {
        "id": "YVbYsgm5uk7b"
      }
    },
    {
      "cell_type": "code",
      "source": [
        "import torch\n",
        "import torchvision\n",
        "from torch import nn\n"
      ],
      "metadata": {
        "collapsed": true,
        "id": "KFxoUrUlwwvd"
      },
      "execution_count": null,
      "outputs": []
    },
    {
      "cell_type": "code",
      "source": [
        "#this function adds symmetric noice to the dataset labels\n",
        "def add_noise(y, noise_rate):\n",
        "  num_samples = len(y)\n",
        "  num_noise = int(num_samples*noise_rate)\n",
        "\n",
        "  noisy_index = torch.randperm(num_samples)[:num_noise]\n",
        "\n",
        "  for i in noisy_index:\n",
        "    original_label = y[i].item()\n",
        "    possible_labels = torch.tensor([x for x in range(10) if x != original_label])\n",
        "    new_label = possible_labels[torch.randint(0, 9, (1,))]\n",
        "\n",
        "    y[i] = new_label\n",
        "\n",
        "    return y"
      ],
      "metadata": {
        "id": "W8w5rz3_s1It"
      },
      "execution_count": null,
      "outputs": []
    },
    {
      "cell_type": "markdown",
      "source": [
        "# 2. Making a Simple Model"
      ],
      "metadata": {
        "id": "ZJALbfOozvlc"
      }
    },
    {
      "cell_type": "code",
      "source": [
        "class SimpleCNN(nn.Module):\n",
        "  def __init__(self, input_shape: int, output_shape: int, hidden_units: int):\n",
        "    super().__init__()\n",
        "    self.block_1 = nn.Sequential(\n",
        "      nn.Conv2d(in_channels=input_shape,\n",
        "                out_channels=hidden_units,\n",
        "                kernel_size=3,\n",
        "                stride=1,\n",
        "                padding=1),\n",
        "      nn.ReLU(),\n",
        "      nn.Conv2d(in_channels=hidden_units,\n",
        "                out_channels=hidden_units,\n",
        "                kernel_size=3,\n",
        "                stride=1,\n",
        "                padding=1),\n",
        "      nn.ReLU(),\n",
        "      nn.MaxPool2d(kernel_size=2)\n",
        "    )\n",
        "\n",
        "    self.classifier = nn.Sequential(\n",
        "      nn.Flatten(),\n",
        "      nn.Linear(8192, out_features=output_shape),\n",
        "    )\n",
        "\n",
        "  def forward(self, x: torch.Tensor):\n",
        "    x = self.block_1(x)\n",
        "    x = self.classifier(x)\n",
        "    return x\n",
        "\n",
        "\n",
        "model0 = SimpleCNN(input_shape=3, output_shape=10, hidden_units=32)\n",
        "\n",
        "device = \"cpu\"\n",
        "model0.to(device)\n"
      ],
      "metadata": {
        "colab": {
          "base_uri": "https://localhost:8080/"
        },
        "id": "pkQRUHdQzf12",
        "outputId": "645858fe-a605-4ea8-c8cc-e4c5af8fe5f8"
      },
      "execution_count": null,
      "outputs": [
        {
          "output_type": "execute_result",
          "data": {
            "text/plain": [
              "SimpleCNN(\n",
              "  (block_1): Sequential(\n",
              "    (0): Conv2d(3, 32, kernel_size=(3, 3), stride=(1, 1), padding=(1, 1))\n",
              "    (1): ReLU()\n",
              "    (2): Conv2d(32, 32, kernel_size=(3, 3), stride=(1, 1), padding=(1, 1))\n",
              "    (3): ReLU()\n",
              "    (4): MaxPool2d(kernel_size=2, stride=2, padding=0, dilation=1, ceil_mode=False)\n",
              "  )\n",
              "  (classifier): Sequential(\n",
              "    (0): Flatten(start_dim=1, end_dim=-1)\n",
              "    (1): Linear(in_features=8192, out_features=10, bias=True)\n",
              "  )\n",
              ")"
            ]
          },
          "metadata": {},
          "execution_count": 3
        }
      ]
    },
    {
      "cell_type": "markdown",
      "source": [
        "# 3. Making Custom Loss functions\n",
        "We make the functions we need to use that are not present in torch.nn"
      ],
      "metadata": {
        "id": "dEmvmz_XO8bW"
      }
    },
    {
      "cell_type": "code",
      "source": [
        "class NormalizedCrossEntropyLoss(nn.Module):\n",
        "  def __init__(self, num_classes=10, reduction='mean'):\n",
        "    super(NormalizedCrossEntropyLoss, self).__init__()\n",
        "    self.num_classes = num_classes\n",
        "    self.reduction = reduction\n",
        "    self.ce = nn.CrossEntropyLoss(reduction='none')\n",
        "\n",
        "  def forward(self, inputs, targets):\n",
        "    ce_loss = self.ce(inputs, targets)\n",
        "    # Maximum possible cross-entropy for uniform prediction is log(num_classes)\n",
        "    norm_loss = ce_loss / math.log(self.num_classes)\n",
        "    if self.reduction == 'mean':\n",
        "      return norm_loss.mean()\n",
        "    elif self.reduction == 'sum':\n",
        "      return norm_loss.sum()\n",
        "    else:\n",
        "      return norm_loss"
      ],
      "metadata": {
        "id": "QQN83hlUPG7O"
      },
      "execution_count": null,
      "outputs": []
    },
    {
      "cell_type": "code",
      "source": [
        "class FocalLoss(nn.Module):\n",
        "  def __init__(self, gamma=2, num_classes=10, reduction='mean'):\n",
        "    super(FocalLoss, self).__init__()\n",
        "    self.gamma = gamma\n",
        "    self.num_classes = num_classes\n",
        "    self.reduction = reduction\n",
        "    self.ce = nn.CrossEntropyLoss(reduction='none')\n",
        "\n",
        "  def forward(self, inputs, targets):\n",
        "    ce_loss = self.ce(inputs, targets)\n",
        "    pt = torch.exp(-ce_loss)\n",
        "    focal_loss = ((1-pt)**self.gamma) * ce_loss\n",
        "    if self.reduction == 'mean':\n",
        "      return focal_loss.mean()\n",
        "    elif self.reduction == 'sum':\n",
        "      return focal_loss.sum()\n",
        "    else:\n",
        "      return focal_loss\n"
      ],
      "metadata": {
        "id": "nhxr2TMaPGsN"
      },
      "execution_count": null,
      "outputs": []
    },
    {
      "cell_type": "code",
      "source": [
        "  class NormalizedFocalLoss(nn.Module):\n",
        "    def __init__(self, gamma=2, num_classes=10):\n",
        "      super(NormalizedFocalLoss, self).__init__()\n",
        "      self.gamma = gamma\n",
        "      self.num_classes = num_classes\n",
        "      self.focal_loss = FocalLoss(gamma=gamma, num_classes=num_classes)\n",
        "    def forward(self, inputs, targets):\n",
        "      focal_loss = self.focal_loss(inputs, targets)\n",
        "      norm_loss = focal_loss / math.log(self.num_classes)\n",
        "      if self.reduction == 'sum':\n",
        "        return norm_loss.sum()\n",
        "      elif self.reduction == 'mean':\n",
        "        return norm_loss.mean()\n",
        "      else:\n",
        "        return norm_loss\n",
        "\n"
      ],
      "metadata": {
        "id": "3mvnENeZPGcM"
      },
      "execution_count": null,
      "outputs": []
    },
    {
      "cell_type": "markdown",
      "source": [
        "# 4. Making training and testing functions"
      ],
      "metadata": {
        "id": "Cl9g31nJ2Yc3"
      }
    },
    {
      "cell_type": "code",
      "source": [
        "def train(model, device, train_loader, optimizer, loss_fn, epoch):\n",
        "  model.train()\n",
        "  loss = 0\n",
        "  for batch_idx, (data, target) in enumerate(train_loader):\n",
        "    data, target = data.to(device), target.to(device)\n",
        "    preds = model(data)\n",
        "    loss += loss_fn(preds, target)\n",
        "    optimizer.zero_grad()\n",
        "    optimizer.step()\n",
        "  loss /= len(train_loader)\n",
        "  loss.backward()\n",
        "  print(f\"Epoch: {epoch}, Loss: {loss}\")\n",
        "\n",
        "def test(model, device, test_loader, loss_fn):\n",
        "  model.eval()\n",
        "  test_loss = 0\n",
        "  correct = 0\n",
        "  with torch.inference_mode():\n",
        "    for data, target in test_loader:\n",
        "      data, target = data.to(device), target.to(device)\n",
        "      test_preds = model(data)\n",
        "      test_loss += loss_fn(preds, target)\n",
        "      pred = output.argmax(dim=1, keepdim=True)\n",
        "      correct += pred.eq(target.view_as(pred)).sum().item()\n",
        "  test_loss /= len(test_loader.dataset)\n",
        "  accuracy = (correct/len(test_loader.dataset))*100\n",
        "  return test_loss, accuracy"
      ],
      "metadata": {
        "id": "Vns8cZgP2bPX"
      },
      "execution_count": null,
      "outputs": []
    },
    {
      "cell_type": "markdown",
      "source": [
        "# 5. Training the model on data with different noises for different losses"
      ],
      "metadata": {
        "id": "lJvQObhS7VWq"
      }
    },
    {
      "cell_type": "code",
      "source": [
        "epochs = 3\n",
        "batch_size = 16\n",
        "\n",
        "loss_functions = {\n",
        "  \"Vanilla CE\": nn.CrossEntropyLoss(),\n",
        "  \"Normalized CE\": NormalizedCrossEntropyLoss(num_classes=10),\n",
        "  \"Focal Loss\": FocalLoss(gamma=2),\n",
        "  \"Normalized Focal Loss\": NormalizedFocalLoss(gamma=2, num_classes=10)\n",
        "}\n",
        "\n",
        "results = {loss_name: [] for loss_name in loss_functions.keys()}\n",
        "\n",
        "noise_rates = [0.2, 0.4, 0.6, 0.8]\n",
        "\n",
        "\n",
        "transform = torchvision.transforms.Compose([torchvision.transforms.ToTensor()])\n",
        "\n",
        "trainset = torchvision.datasets.CIFAR10(root=\"./data\", train=True, transform=transform, download=True)\n",
        "testset = torchvision.datasets.CIFAR10(root=\"./data\", train=False, transform=transform, download=True)\n",
        "\n",
        "\n",
        "y_train = torch.tensor(trainset.targets)\n",
        "x_train = torch.tensor(trainset.data)\n",
        "\n",
        "y_test = torch.tensor(testset.targets)\n",
        "x_test = torch.tensor(testset.data)\n",
        "\n",
        "optimizer = torch.optim.Adam(model0.parameters(), lr=0.001)\n",
        "\n",
        "for noise in noise_rates:\n",
        "  noisy_trainset = torchvision.datasets.CIFAR10(root=\"./data\", train=True, transform=transform, download=True)\n",
        "\n",
        "  y_train = torch.tensor(trainset.targets)\n",
        "  y_train_with_noise = add_noise(y_train, noise)\n",
        "  trainset.targets = y_train_with_noise\n",
        "\n",
        "  train_loader = torch.utils.data.DataLoader(trainset, batch_size=batch_size, shuffle=True)\n",
        "  test_loader = torch.utils.data.DataLoader(testset, batch_size=batch_size, shuffle=True)\n",
        "\n",
        "  for loss_name, loss_fn in loss_functions.items():\n",
        "    print(f\"Training with loss: {loss_name}\")\n",
        "    for epoch in range(epochs):\n",
        "      # train(model0, device,  train_loader, optimizer, loss_fn, epoch)\n",
        "      model0.train()\n",
        "      loss = 0\n",
        "      for batch_idx, (data, target) in enumerate(train_loader):\n",
        "        # data, target = data.to(device), target.to(device)\n",
        "        preds = model0(data)\n",
        "        loss += loss_fn(preds, target)\n",
        "        optimizer.zero_grad()\n",
        "        optimizer.step()\n",
        "      loss /= len(train_loader)\n",
        "      loss.backward()\n",
        "      print(f\"Epoch: {epoch}, Loss: {loss}\")\n",
        "    test_loss, accuracy = test(model0, device, test_loader, loss_fn)\n",
        "    results[loss_name].append((noise, test_loss, accuracy))\n",
        "\n",
        "\n",
        "\n",
        "\n"
      ],
      "metadata": {
        "id": "gsol7OCW2bGm",
        "colab": {
          "base_uri": "https://localhost:8080/"
        },
        "outputId": "7597618a-5f1c-4fd4-d124-c3f471e49320"
      },
      "execution_count": null,
      "outputs": [
        {
          "output_type": "stream",
          "name": "stdout",
          "text": [
            "Files already downloaded and verified\n",
            "Files already downloaded and verified\n",
            "Files already downloaded and verified\n",
            "Training with loss: Vanilla CE\n"
          ]
        }
      ]
    },
    {
      "cell_type": "code",
      "source": [],
      "metadata": {
        "id": "idvZmNp12a-N"
      },
      "execution_count": null,
      "outputs": []
    },
    {
      "cell_type": "code",
      "source": [],
      "metadata": {
        "id": "8O2yQTuM2a2K"
      },
      "execution_count": null,
      "outputs": []
    },
    {
      "cell_type": "code",
      "source": [],
      "metadata": {
        "id": "dPtK_V4e2auC"
      },
      "execution_count": null,
      "outputs": []
    },
    {
      "cell_type": "code",
      "source": [],
      "metadata": {
        "id": "aNoQTp0S2apx"
      },
      "execution_count": null,
      "outputs": []
    }
  ]
}